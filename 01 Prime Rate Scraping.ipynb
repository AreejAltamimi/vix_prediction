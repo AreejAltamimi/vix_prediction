{
 "cells": [
  {
   "cell_type": "code",
   "execution_count": 1,
   "metadata": {},
   "outputs": [
    {
     "name": "stdout",
     "output_type": "stream",
     "text": [
      "Populating the interactive namespace from numpy and matplotlib\n"
     ]
    }
   ],
   "source": [
    "%pylab inline\n",
    "import pandas as pd \n",
    "import requests\n",
    "from bs4 import BeautifulSoup\n",
    "import pickle"
   ]
  },
  {
   "cell_type": "markdown",
   "metadata": {},
   "source": [
    "## Get the historical prime rates using BeautifulSoup"
   ]
  },
  {
   "cell_type": "code",
   "execution_count": 2,
   "metadata": {},
   "outputs": [],
   "source": [
    "def scrape_prime():\n",
    "    url = 'http://www.fedprimerate.com/wall_street_journal_prime_rate_history.htm'\n",
    "    page = requests.get(url)\n",
    "    soup=BeautifulSoup(page.content,\"html\")\n",
    "    rows = soup.find_all(class_='p-1-b-c') #find all rows\n",
    "    rlist = []\n",
    "    for i in rows[4:520]:\n",
    "         rlist.append(i.get_text())\n",
    "    date = []\n",
    "    rate = []\n",
    "    for k,v in enumerate(rlist):\n",
    "        if k % 2 == 0:\n",
    "            rate.append(v)\n",
    "        else:\n",
    "            date.append(v)\n",
    "    df_dict = {'date':date,\n",
    "               'rate':rate}\n",
    "    df = pd.DataFrame.from_dict(df_dict)\n",
    "    return df"
   ]
  },
  {
   "cell_type": "code",
   "execution_count": 3,
   "metadata": {},
   "outputs": [],
   "source": [
    "df = scrapeprime()"
   ]
  },
  {
   "cell_type": "markdown",
   "metadata": {},
   "source": [
    "## Data Cleaning"
   ]
  },
  {
   "cell_type": "code",
   "execution_count": 3,
   "metadata": {},
   "outputs": [],
   "source": [
    "def clean_result(df):\n",
    "    \"\"\"Takes in the scrapped data, cleans it and outputs a csv.\"\"\"\n",
    "    df.rate = df.rate.shift(-1) \n",
    "    df.drop(253, inplace=True)\n",
    "    df.reset_index(inplace=True)\n",
    "    df.drop(columns=['index'], inplace=True)\n",
    "    df.date = df.date.str.replace('\\n ', '', regex=False)\n",
    "    df['date'] = pd.to_datetime(df['date'])\n",
    "    df.iloc[256][1] = 5.25\n",
    "    df.set_value(256, 'rate', 5.5)\n",
    "    df.to_csv('clean_prime.csv')"
   ]
  },
  {
   "cell_type": "code",
   "execution_count": null,
   "metadata": {},
   "outputs": [],
   "source": [
    "clean_result(df)"
   ]
  }
 ],
 "metadata": {
  "kernelspec": {
   "display_name": "Python 3",
   "language": "python",
   "name": "python3"
  },
  "language_info": {
   "codemirror_mode": {
    "name": "ipython",
    "version": 3
   },
   "file_extension": ".py",
   "mimetype": "text/x-python",
   "name": "python",
   "nbconvert_exporter": "python",
   "pygments_lexer": "ipython3",
   "version": "3.7.2"
  }
 },
 "nbformat": 4,
 "nbformat_minor": 2
}
