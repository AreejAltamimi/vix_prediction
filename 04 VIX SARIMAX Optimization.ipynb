{
 "cells": [
  {
   "cell_type": "markdown",
   "metadata": {},
   "source": [
    "## Imports"
   ]
  },
  {
   "cell_type": "code",
   "execution_count": 24,
   "metadata": {},
   "outputs": [
    {
     "name": "stdout",
     "output_type": "stream",
     "text": [
      "Populating the interactive namespace from numpy and matplotlib\n",
      "The autoreload extension is already loaded. To reload it, use:\n",
      "  %reload_ext autoreload\n"
     ]
    }
   ],
   "source": [
    "import pandas as pd \n",
    "import requests\n",
    "import seaborn as sns\n",
    "from datetime import datetime\n",
    "\n",
    "from helper import clean_data\n",
    "from helper import RMSE\n",
    "from helper import split_data\n",
    "\n",
    "from statsmodels.tsa.arima_model import ARIMA\n",
    "\n",
    "import warnings\n",
    "warnings.filterwarnings('ignore')\n",
    "\n",
    "%pylab inline\n",
    "%config InlineBackend.figure_format = 'svg'\n",
    "%load_ext autoreload\n",
    "%autoreload 2"
   ]
  },
  {
   "cell_type": "markdown",
   "metadata": {},
   "source": [
    "## Data loading & cleaning"
   ]
  },
  {
   "cell_type": "code",
   "execution_count": 25,
   "metadata": {},
   "outputs": [],
   "source": [
    "weekly_pct, vix_close = clean_data()"
   ]
  },
  {
   "cell_type": "code",
   "execution_count": 26,
   "metadata": {},
   "outputs": [],
   "source": [
    "train_vix, train_prime, validation, validation_prime, test = split_data(weekly_pct)"
   ]
  },
  {
   "cell_type": "markdown",
   "metadata": {},
   "source": [
    "## SARIMAX"
   ]
  },
  {
   "cell_type": "code",
   "execution_count": 27,
   "metadata": {},
   "outputs": [],
   "source": [
    "import statsmodels.api as sm"
   ]
  },
  {
   "cell_type": "code",
   "execution_count": 28,
   "metadata": {},
   "outputs": [
    {
     "data": {
      "text/plain": [
       "0.04219467048911515"
      ]
     },
     "execution_count": 28,
     "metadata": {},
     "output_type": "execute_result"
    }
   ],
   "source": [
    "validation_prime_df = pd.DataFrame(validation_prime)\n",
    "sar = sm.tsa.statespace.SARIMAX(train_vix, exog=train_prime, \n",
    "        order=(1,0,0), seasonal_order=(0,0,0,12), trend='c').fit()\n",
    "pred = sar.forecast(52*2,exog=validation_prime_df)\n",
    "RMSE(validation,pred)"
   ]
  },
  {
   "cell_type": "code",
   "execution_count": 29,
   "metadata": {},
   "outputs": [],
   "source": [
    "## trying multiple i values, but they're all worse\n",
    "res = []\n",
    "for i in range(1,10):\n",
    "    sar = sm.tsa.statespace.SARIMAX(train_vix, exog=train_prime, order=(i,0,0), seasonal_order=(0,0,0,12), trend='c').fit()\n",
    "    pred = sar.forecast(52*2,exog=validation_prime_df)\n",
    "    res.append([i,RMSE(validation,pred)])\n",
    "    "
   ]
  },
  {
   "cell_type": "code",
   "execution_count": 30,
   "metadata": {},
   "outputs": [
    {
     "data": {
      "text/plain": [
       "[[1, 0.04219467048911515],\n",
       " [2, 0.042198966438793166],\n",
       " [3, 0.042200886356342455],\n",
       " [4, 0.04219094036009502],\n",
       " [5, 0.042169889167493306],\n",
       " [6, 0.042139863468620545],\n",
       " [7, 0.04206785000526468],\n",
       " [8, 0.04207503231738511],\n",
       " [9, 0.04210447601011643]]"
      ]
     },
     "execution_count": 30,
     "metadata": {},
     "output_type": "execute_result"
    }
   ],
   "source": [
    "res"
   ]
  },
  {
   "cell_type": "code",
   "execution_count": 23,
   "metadata": {},
   "outputs": [
    {
     "data": {
      "text/plain": [
       "0.04217228373626341"
      ]
     },
     "execution_count": 23,
     "metadata": {},
     "output_type": "execute_result"
    }
   ],
   "source": [
    "sar = sm.tsa.statespace.SARIMAX(train_vix, order=(1,0,0), seasonal_order=(0,0,0,12), trend='c').fit()\n",
    "pred = sar.forecast(52*2)\n",
    "RMSE(validation,pred)\n"
   ]
  }
 ],
 "metadata": {
  "kernelspec": {
   "display_name": "Python 3",
   "language": "python",
   "name": "python3"
  },
  "language_info": {
   "codemirror_mode": {
    "name": "ipython",
    "version": 3
   },
   "file_extension": ".py",
   "mimetype": "text/x-python",
   "name": "python",
   "nbconvert_exporter": "python",
   "pygments_lexer": "ipython3",
   "version": "3.7.2"
  }
 },
 "nbformat": 4,
 "nbformat_minor": 2
}
